{
 "cells": [
  {
   "cell_type": "markdown",
   "id": "devoted-doctrine",
   "metadata": {},
   "source": [
    "# Interference to create any qubit with desired Probability Distribution. \n",
    "\n",
    "Idea by Rupayan CsMP (discord name).\n",
    "\n",
    "The algorithm can be used to create multiqubit states (instead of just single qubit) with desired probability distribution, which is scalable. "
   ]
  },
  {
   "cell_type": "code",
   "execution_count": 1,
   "id": "awful-quilt",
   "metadata": {},
   "outputs": [
    {
     "data": {
      "text/html": [
       "<h3>Version Information</h3><table><tr><th>Qiskit Software</th><th>Version</th></tr><tr><td>Qiskit</td><td>0.25.0</td></tr><tr><td>Terra</td><td>0.17.0</td></tr><tr><td>Aer</td><td>0.8.0</td></tr><tr><td>Ignis</td><td>0.6.0</td></tr><tr><td>Aqua</td><td>0.9.0</td></tr><tr><td>IBM Q Provider</td><td>0.12.2</td></tr><tr><th>System information</th></tr><tr><td>Python</td><td>3.8.5 (default, Sep  4 2020, 07:30:14) \n",
       "[GCC 7.3.0]</td></tr><tr><td>OS</td><td>Linux</td></tr><tr><td>CPUs</td><td>2</td></tr><tr><td>Memory (Gb)</td><td>15.665283203125</td></tr><tr><td colspan='2'>Sun Apr 11 10:12:03 2021 UTC</td></tr></table>"
      ],
      "text/plain": [
       "<IPython.core.display.HTML object>"
      ]
     },
     "metadata": {},
     "output_type": "display_data"
    }
   ],
   "source": [
    "import qiskit.tools.jupyter\n",
    "%qiskit_version_table"
   ]
  },
  {
   "cell_type": "markdown",
   "id": "banner-acrylic",
   "metadata": {},
   "source": [
    "### Gates implementation logic\n",
    "\n",
    "**Goal:** Create qubit state with $a^2$ probability of getting $|0\\rangle$ and $b^2$ probability of getting $|1\\rangle$. \n",
    "\n",
    "Immediately following a single Hadamard gate implementation, we implement a U3 gate with ($0, 0, \\lambda$) where U3 gate is ($\\theta, \\phi, \\lambda$) ordering, so $\\theta = 0$, $\\phi = 0$. \n",
    "\n",
    "Then we want to find $\\lambda$, which equals to $cos^{-1} (|a|)$. \n",
    "\n",
    "\n",
    "1. Apply $H$ we get $|+\\rangle$ state. \n",
    "2. Apply $U3$ with parameters ($0, 0, \\lambda$): \n",
    "$$ \\frac{1}{\\sqrt{2}} \\bigg(|0\\rangle + e^{i\\lambda}|1\\rangle\\bigg) $$\n",
    "3. Apply $X$ gate: \n",
    "$$ \\frac{1}{\\sqrt{2}} \\bigg(|1\\rangle + e^{i\\lambda}|0\\rangle\\bigg) $$\n",
    "4. Apply $U3$ with parameters ($0, 0, -\\lambda$): \n",
    "$$ \\frac{1}{\\sqrt{2}} \\bigg(e^{-i\\lambda}|1\\rangle + e^{i\\lambda}|0\\rangle\\bigg) $$\n",
    "5. Apply $H$ gate: \n",
    "$$ a|0\\rangle + ib|1\\rangle $$\n",
    "\n",
    "Interference exist and creates desired state here. "
   ]
  },
  {
   "cell_type": "code",
   "execution_count": 10,
   "id": "suited-howard",
   "metadata": {},
   "outputs": [],
   "source": [
    "%config Completer.use_jedi = False\n",
    "\n",
    "from qiskit import *\n",
    "from qiskit.visualization import *\n",
    "from qiskit_textbook.tools import array_to_latex\n",
    "\n",
    "import numpy as np"
   ]
  },
  {
   "cell_type": "code",
   "execution_count": 13,
   "id": "juvenile-financing",
   "metadata": {},
   "outputs": [
    {
     "name": "stdout",
     "output_type": "stream",
     "text": [
      "What probability distribution would you like? \n"
     ]
    },
    {
     "name": "stdin",
     "output_type": "stream",
     "text": [
      "Input a^2:  0.2\n",
      "Input b^2:  0.8\n"
     ]
    }
   ],
   "source": [
    "print(\"What probability distribution would you like? \")\n",
    "a_square = float(input(\"Input a^2: \"))\n",
    "b_square = float(input(\"Input b^2: \"))\n",
    "\n",
    "while (a_square + b_square) != 1:\n",
    "    print(\"Invalid input, a^2 + b^2 == 1 is a requirement. Please input again: \")\n",
    "    a_square = float(input(\"Input a^2: \"))\n",
    "    b_square = float(input(\"Input b^2: \"))\n",
    "    \n",
    "V = np.sqrt(a_square)\n",
    "\n",
    "lambda1 = np.arccos(V)"
   ]
  },
  {
   "cell_type": "markdown",
   "id": "protected-brazil",
   "metadata": {},
   "source": [
    "We will use $U$ gate as $U3$ gate is deprecating, as per instructed it acts identical. "
   ]
  },
  {
   "cell_type": "code",
   "execution_count": 16,
   "id": "right-folder",
   "metadata": {},
   "outputs": [
    {
     "data": {
      "image/png": "[encoded data removed]",
      "text/plain": [
       "<Figure size 434.526x84.28 with 1 Axes>"
      ]
     },
     "execution_count": 16,
     "metadata": {},
     "output_type": "execute_result"
    }
   ],
   "source": [
    "qc = QuantumCircuit(1)\n",
    "\n",
    "qc.h(0)\n",
    "qc.u(0, 0, lambda1, qubit=0)\n",
    "qc.x(0)\n",
    "qc.u(0, 0, -lambda1, qubit=0)\n",
    "qc.h(0)\n",
    "\n",
    "# qc.measure_all()\n",
    "\n",
    "qc.draw(\"mpl\", style=\"iqx\")"
   ]
  },
  {
   "cell_type": "code",
   "execution_count": 17,
   "id": "proper-compression",
   "metadata": {},
   "outputs": [
    {
     "data": {
      "text/latex": [
       "$\\displaystyle \n",
       "\\text{Statevector} = \\begin{bmatrix}\n",
       "0.4 \\\\\n",
       "0.9i\n",
       "\\end{bmatrix}\n",
       "$"
      ],
      "text/plain": [
       "<IPython.core.display.Math object>"
      ]
     },
     "metadata": {},
     "output_type": "display_data"
    }
   ],
   "source": [
    "backend = Aer.get_backend(\"statevector_simulator\")\n",
    "result = execute(qc, backend=backend, shots=5000).result()\n",
    "state = result.get_statevector()\n",
    "\n",
    "array_to_latex(state, pretext=\"\\\\text{Statevector} = \", precision=1)"
   ]
  },
  {
   "cell_type": "code",
   "execution_count": null,
   "id": "aging-clause",
   "metadata": {},
   "outputs": [],
   "source": []
  }
 ],
 "metadata": {
  "kernelspec": {
   "display_name": "updatedQiskit1",
   "language": "python",
   "name": "updatedqiskit1"
  },
  "language_info": {
   "codemirror_mode": {
    "name": "ipython",
    "version": 3
   },
   "file_extension": ".py",
   "mimetype": "text/x-python",
   "name": "python",
   "nbconvert_exporter": "python",
   "pygments_lexer": "ipython3",
   "version": "3.8.5"
  },
  "widgets": {
   "application/vnd.jupyter.widget-state+json": {
    "state": {
     "037240d805b449029ec886eb137fa7a3": {
      "model_module": "@jupyter-widgets/controls",
      "model_module_version": "1.5.0",
      "model_name": "HTMLModel",
      "state": {
       "layout": "IPY_MODEL_3e17875142864fcca70a09c901734761",
       "style": "IPY_MODEL_48a00b7f8da7463585feb234aaea4e88",
       "value": "<h5>Status</h5>"
      }
     },
     "133fd0c82a034020a84692f4c05d5657": {
      "model_module": "@jupyter-widgets/base",
      "model_module_version": "1.2.0",
      "model_name": "LayoutModel",
      "state": {
       "width": "145px"
      }
     },
     "1399c7e5809a4e3fbac007f8bf818e94": {
      "model_module": "@jupyter-widgets/base",
      "model_module_version": "1.2.0",
      "model_name": "LayoutModel",
      "state": {
       "margin": "0px 0px 10px 0px"
      }
     },
     "187015de27dc43d49d096dd33beebe9f": {
      "model_module": "@jupyter-widgets/controls",
      "model_module_version": "1.5.0",
      "model_name": "DescriptionStyleModel",
      "state": {
       "description_width": ""
      }
     },
     "38f406531a3a4f2986fa4c6dff2474da": {
      "model_module": "@jupyter-widgets/base",
      "model_module_version": "1.2.0",
      "model_name": "LayoutModel",
      "state": {
       "grid_area": "right",
       "padding": "0px 0px 0px 0px",
       "width": "70px"
      }
     },
     "3e17875142864fcca70a09c901734761": {
      "model_module": "@jupyter-widgets/base",
      "model_module_version": "1.2.0",
      "model_name": "LayoutModel",
      "state": {
       "width": "95px"
      }
     },
     "48a00b7f8da7463585feb234aaea4e88": {
      "model_module": "@jupyter-widgets/controls",
      "model_module_version": "1.5.0",
      "model_name": "DescriptionStyleModel",
      "state": {
       "description_width": ""
      }
     },
     "54bc6103639b4af3b668e1e0ffff0a39": {
      "model_module": "@jupyter-widgets/base",
      "model_module_version": "1.2.0",
      "model_name": "LayoutModel",
      "state": {
       "grid_template_areas": "\n                                       \". . . . right \"\n                                        ",
       "grid_template_columns": "20% 20% 20% 20% 20%",
       "width": "100%"
      }
     },
     "5e816f6ffef742e4894b752cd2b9d7dc": {
      "model_module": "@jupyter-widgets/base",
      "model_module_version": "1.2.0",
      "model_name": "LayoutModel",
      "state": {
       "width": "190px"
      }
     },
     "69f92969f5e44550bb08caea3f1ddae9": {
      "model_module": "@jupyter-widgets/controls",
      "model_module_version": "1.5.0",
      "model_name": "HTMLModel",
      "state": {
       "layout": "IPY_MODEL_d44beb2c8a634ef2ad096581929f73ed",
       "style": "IPY_MODEL_187015de27dc43d49d096dd33beebe9f",
       "value": "<h5>Message</h5>"
      }
     },
     "7038288dd59846e99a8dd3159a3bf6ee": {
      "model_module": "@jupyter-widgets/controls",
      "model_module_version": "1.5.0",
      "model_name": "DescriptionStyleModel",
      "state": {
       "description_width": ""
      }
     },
     "75d28c26d0d04b7abb5346eb6a6ec009": {
      "model_module": "@jupyter-widgets/controls",
      "model_module_version": "1.5.0",
      "model_name": "HTMLModel",
      "state": {
       "layout": "IPY_MODEL_133fd0c82a034020a84692f4c05d5657",
       "style": "IPY_MODEL_8abb7546d9a1477fa27f8c97a9e23c78",
       "value": "<h5>Backend</h5>"
      }
     },
     "7f0ee54d32ce4a8894eeba1f9d0f80e7": {
      "model_module": "@jupyter-widgets/controls",
      "model_module_version": "1.5.0",
      "model_name": "HTMLModel",
      "state": {
       "layout": "IPY_MODEL_1399c7e5809a4e3fbac007f8bf818e94",
       "style": "IPY_MODEL_7038288dd59846e99a8dd3159a3bf6ee",
       "value": "<p style='font-family: IBM Plex Sans, Arial, Helvetica, sans-serif; font-size: 20px; font-weight: medium;'>Circuit Properties</p>"
      }
     },
     "84218f8c24ac48138cd80a231434eba0": {
      "model_module": "@jupyter-widgets/controls",
      "model_module_version": "1.5.0",
      "model_name": "HBoxModel",
      "state": {
       "children": [
        "IPY_MODEL_d02a2f94955d4833b6b706ac4db81aac",
        "IPY_MODEL_75d28c26d0d04b7abb5346eb6a6ec009",
        "IPY_MODEL_037240d805b449029ec886eb137fa7a3",
        "IPY_MODEL_fc63cb47e40e4c65b280acbccd88b4c7",
        "IPY_MODEL_69f92969f5e44550bb08caea3f1ddae9"
       ],
       "layout": "IPY_MODEL_b0827928d0e746a3bdfeb072ec8849f6"
      }
     },
     "86009c11fb7641ec82a60e1a5e439d32": {
      "model_module": "@jupyter-widgets/controls",
      "model_module_version": "1.5.0",
      "model_name": "ButtonModel",
      "state": {
       "button_style": "primary",
       "description": "Clear",
       "layout": "IPY_MODEL_38f406531a3a4f2986fa4c6dff2474da",
       "style": "IPY_MODEL_a16ca3109a41475bb3617b105a5ae6be"
      }
     },
     "8abb7546d9a1477fa27f8c97a9e23c78": {
      "model_module": "@jupyter-widgets/controls",
      "model_module_version": "1.5.0",
      "model_name": "DescriptionStyleModel",
      "state": {
       "description_width": ""
      }
     },
     "a16ca3109a41475bb3617b105a5ae6be": {
      "model_module": "@jupyter-widgets/controls",
      "model_module_version": "1.5.0",
      "model_name": "ButtonStyleModel",
      "state": {}
     },
     "b0827928d0e746a3bdfeb072ec8849f6": {
      "model_module": "@jupyter-widgets/base",
      "model_module_version": "1.2.0",
      "model_name": "LayoutModel",
      "state": {
       "margin": "0px 0px 0px 37px",
       "width": "600px"
      }
     },
     "c6970ddd94be4c548460f5a30cb80bd9": {
      "model_module": "@jupyter-widgets/controls",
      "model_module_version": "1.5.0",
      "model_name": "DescriptionStyleModel",
      "state": {
       "description_width": ""
      }
     },
     "d02a2f94955d4833b6b706ac4db81aac": {
      "model_module": "@jupyter-widgets/controls",
      "model_module_version": "1.5.0",
      "model_name": "HTMLModel",
      "state": {
       "layout": "IPY_MODEL_5e816f6ffef742e4894b752cd2b9d7dc",
       "style": "IPY_MODEL_e87d50bd223943fd978e95d550a37d10",
       "value": "<h5>Job ID</h5>"
      }
     },
     "d44beb2c8a634ef2ad096581929f73ed": {
      "model_module": "@jupyter-widgets/base",
      "model_module_version": "1.2.0",
      "model_name": "LayoutModel",
      "state": {}
     },
     "e3401c6785294b4fa24376b1be3a293a": {
      "model_module": "@jupyter-widgets/base",
      "model_module_version": "1.2.0",
      "model_name": "LayoutModel",
      "state": {
       "width": "70px"
      }
     },
     "e87d50bd223943fd978e95d550a37d10": {
      "model_module": "@jupyter-widgets/controls",
      "model_module_version": "1.5.0",
      "model_name": "DescriptionStyleModel",
      "state": {
       "description_width": ""
      }
     },
     "f2b887772090429e9b04099fd8c4dea3": {
      "model_module": "@jupyter-widgets/controls",
      "model_module_version": "1.5.0",
      "model_name": "GridBoxModel",
      "state": {
       "children": [
        "IPY_MODEL_86009c11fb7641ec82a60e1a5e439d32"
       ],
       "layout": "IPY_MODEL_54bc6103639b4af3b668e1e0ffff0a39"
      }
     },
     "fc63cb47e40e4c65b280acbccd88b4c7": {
      "model_module": "@jupyter-widgets/controls",
      "model_module_version": "1.5.0",
      "model_name": "HTMLModel",
      "state": {
       "layout": "IPY_MODEL_e3401c6785294b4fa24376b1be3a293a",
       "style": "IPY_MODEL_c6970ddd94be4c548460f5a30cb80bd9",
       "value": "<h5>Queue</h5>"
      }
     }
    },
    "version_major": 2,
    "version_minor": 0
   }
  }
 },
 "nbformat": 4,
 "nbformat_minor": 5
}
