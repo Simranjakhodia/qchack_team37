{
 "cells": [
  {
   "cell_type": "markdown",
   "id": "small-scanner",
   "metadata": {},
   "source": [
    "# Quantum Key Distribution + \"Quantum Computer Virus\"\n",
    "\n",
    "We learn about Quantum Key Distribution <a href=\"https://qiskit.org/textbook/ch-algorithms/quantum-key-distribution.html\">here</a> and in brief, we have Alice and Bob trying to communicate a secret key over a channel/third party, Eve, and Quantum Key Distribution can show that the key are different if Eve is trying to eavesdrop (my bad english, \"eavesdrop\" doesn't exist but you get the meaning) the conversation. \n",
    "\n",
    "However suppose that Eve doesn't exist, and Alice and Bob communicates via Wabinab's channel. And this guy Wabinab are so bored of studying quantum computing (pleading for forgiveness here for whoever reading this) that he decides to create some random \"Quantum Computer Virus\" and inject this \"phase virus\" into the communication channel. More technically explained, he create some random numbers and use these random numbers to create random phase gates and when the package reaches his channel, he tries to \"interfere\" with the original message being communicated in between Alice and Bob. \n",
    "\n",
    "Let's see what would happen. "
   ]
  },
  {
   "cell_type": "code",
   "execution_count": 1,
   "id": "answering-penetration",
   "metadata": {},
   "outputs": [
    {
     "data": {
      "text/html": [
       "<h3>Version Information</h3><table><tr><th>Qiskit Software</th><th>Version</th></tr><tr><td>Qiskit</td><td>0.25.0</td></tr><tr><td>Terra</td><td>0.17.0</td></tr><tr><td>Aer</td><td>0.8.0</td></tr><tr><td>Ignis</td><td>0.6.0</td></tr><tr><td>Aqua</td><td>0.9.0</td></tr><tr><td>IBM Q Provider</td><td>0.12.2</td></tr><tr><th>System information</th></tr><tr><td>Python</td><td>3.8.5 (default, Sep  4 2020, 07:30:14) \n",
       "[GCC 7.3.0]</td></tr><tr><td>OS</td><td>Linux</td></tr><tr><td>CPUs</td><td>2</td></tr><tr><td>Memory (Gb)</td><td>15.665283203125</td></tr><tr><td colspan='2'>Sun Apr 11 01:58:38 2021 UTC</td></tr></table>"
      ],
      "text/plain": [
       "<IPython.core.display.HTML object>"
      ]
     },
     "metadata": {},
     "output_type": "display_data"
    }
   ],
   "source": [
    "import qiskit.tools.jupyter\n",
    "%qiskit_version_table"
   ]
  },
  {
   "cell_type": "code",
   "execution_count": null,
   "id": "atlantic-response",
   "metadata": {},
   "outputs": [],
   "source": []
  }
 ],
 "metadata": {
  "kernelspec": {
   "display_name": "updatedQiskit1",
   "language": "python",
   "name": "updatedqiskit1"
  },
  "language_info": {
   "codemirror_mode": {
    "name": "ipython",
    "version": 3
   },
   "file_extension": ".py",
   "mimetype": "text/x-python",
   "name": "python",
   "nbconvert_exporter": "python",
   "pygments_lexer": "ipython3",
   "version": "3.8.5"
  },
  "widgets": {
   "application/vnd.jupyter.widget-state+json": {
    "state": {
     "095357bdbbfa4e27a238891b445a22b6": {
      "model_module": "@jupyter-widgets/controls",
      "model_module_version": "1.5.0",
      "model_name": "DescriptionStyleModel",
      "state": {
       "description_width": ""
      }
     },
     "2c9b895b49fe41baa2f5521dadbb9dfb": {
      "model_module": "@jupyter-widgets/controls",
      "model_module_version": "1.5.0",
      "model_name": "HTMLModel",
      "state": {
       "layout": "IPY_MODEL_7cbb8cff65514448a2f37bf6339b84ba",
       "style": "IPY_MODEL_634c0f5e548a4a7da3a1290caabeb2db",
       "value": "<h5>Queue</h5>"
      }
     },
     "2e03f23324f742d6bed2e5f3fc844777": {
      "model_module": "@jupyter-widgets/base",
      "model_module_version": "1.2.0",
      "model_name": "LayoutModel",
      "state": {
       "margin": "0px 0px 0px 37px",
       "width": "600px"
      }
     },
     "35eea1b99d544a388697801737407a4e": {
      "model_module": "@jupyter-widgets/controls",
      "model_module_version": "1.5.0",
      "model_name": "HTMLModel",
      "state": {
       "layout": "IPY_MODEL_aabeeb19a5094cc690b83361649c92b4",
       "style": "IPY_MODEL_bfa63bd171a4426e8b47512e6f9b171b",
       "value": "<h5>Job ID</h5>"
      }
     },
     "3d9a1990015e4b8bb796fb66edf21f6c": {
      "model_module": "@jupyter-widgets/controls",
      "model_module_version": "1.5.0",
      "model_name": "HTMLModel",
      "state": {
       "layout": "IPY_MODEL_a5e6451155c34ca1b7f5eea01113dab7",
       "style": "IPY_MODEL_095357bdbbfa4e27a238891b445a22b6",
       "value": "<p style='font-family: IBM Plex Sans, Arial, Helvetica, sans-serif; font-size: 20px; font-weight: medium;'>Circuit Properties</p>"
      }
     },
     "44ae8ec133ab4ae186aaa2d605cdc066": {
      "model_module": "@jupyter-widgets/base",
      "model_module_version": "1.2.0",
      "model_name": "LayoutModel",
      "state": {
       "grid_area": "right",
       "padding": "0px 0px 0px 0px",
       "width": "70px"
      }
     },
     "4a9ffc2bdb724184a1d6711c0e055385": {
      "model_module": "@jupyter-widgets/base",
      "model_module_version": "1.2.0",
      "model_name": "LayoutModel",
      "state": {
       "grid_template_areas": "\n                                       \". . . . right \"\n                                        ",
       "grid_template_columns": "20% 20% 20% 20% 20%",
       "width": "100%"
      }
     },
     "4c4b85e61a2b4c5696573e62becf6173": {
      "model_module": "@jupyter-widgets/controls",
      "model_module_version": "1.5.0",
      "model_name": "HTMLModel",
      "state": {
       "layout": "IPY_MODEL_d4ff690fcd084fc0aadb979392e987c7",
       "style": "IPY_MODEL_83cf550b99c94604be632335890fb082",
       "value": "<h5>Message</h5>"
      }
     },
     "5d9dd7bdf7794a60a9651a3cc5fe522f": {
      "model_module": "@jupyter-widgets/controls",
      "model_module_version": "1.5.0",
      "model_name": "DescriptionStyleModel",
      "state": {
       "description_width": ""
      }
     },
     "634c0f5e548a4a7da3a1290caabeb2db": {
      "model_module": "@jupyter-widgets/controls",
      "model_module_version": "1.5.0",
      "model_name": "DescriptionStyleModel",
      "state": {
       "description_width": ""
      }
     },
     "640f16bb83124a5ab8a3dab25cb61e8e": {
      "model_module": "@jupyter-widgets/controls",
      "model_module_version": "1.5.0",
      "model_name": "HTMLModel",
      "state": {
       "layout": "IPY_MODEL_f4e58bfdbee24bd6a76775fed354e097",
       "style": "IPY_MODEL_5d9dd7bdf7794a60a9651a3cc5fe522f",
       "value": "<h5>Status</h5>"
      }
     },
     "666dac8a14334a4a873761f0674d7829": {
      "model_module": "@jupyter-widgets/controls",
      "model_module_version": "1.5.0",
      "model_name": "HBoxModel",
      "state": {
       "children": [
        "IPY_MODEL_35eea1b99d544a388697801737407a4e",
        "IPY_MODEL_89a15a641d05470082d97f2b567fff15",
        "IPY_MODEL_640f16bb83124a5ab8a3dab25cb61e8e",
        "IPY_MODEL_2c9b895b49fe41baa2f5521dadbb9dfb",
        "IPY_MODEL_4c4b85e61a2b4c5696573e62becf6173"
       ],
       "layout": "IPY_MODEL_2e03f23324f742d6bed2e5f3fc844777"
      }
     },
     "734f3bc52f544143bea8f822d33cf553": {
      "model_module": "@jupyter-widgets/base",
      "model_module_version": "1.2.0",
      "model_name": "LayoutModel",
      "state": {
       "width": "145px"
      }
     },
     "7cbb8cff65514448a2f37bf6339b84ba": {
      "model_module": "@jupyter-widgets/base",
      "model_module_version": "1.2.0",
      "model_name": "LayoutModel",
      "state": {
       "width": "70px"
      }
     },
     "83cf550b99c94604be632335890fb082": {
      "model_module": "@jupyter-widgets/controls",
      "model_module_version": "1.5.0",
      "model_name": "DescriptionStyleModel",
      "state": {
       "description_width": ""
      }
     },
     "89a15a641d05470082d97f2b567fff15": {
      "model_module": "@jupyter-widgets/controls",
      "model_module_version": "1.5.0",
      "model_name": "HTMLModel",
      "state": {
       "layout": "IPY_MODEL_734f3bc52f544143bea8f822d33cf553",
       "style": "IPY_MODEL_8bd2292a01c34f4ab9b288144fe75bac",
       "value": "<h5>Backend</h5>"
      }
     },
     "8bd2292a01c34f4ab9b288144fe75bac": {
      "model_module": "@jupyter-widgets/controls",
      "model_module_version": "1.5.0",
      "model_name": "DescriptionStyleModel",
      "state": {
       "description_width": ""
      }
     },
     "a5e6451155c34ca1b7f5eea01113dab7": {
      "model_module": "@jupyter-widgets/base",
      "model_module_version": "1.2.0",
      "model_name": "LayoutModel",
      "state": {
       "margin": "0px 0px 10px 0px"
      }
     },
     "aabeeb19a5094cc690b83361649c92b4": {
      "model_module": "@jupyter-widgets/base",
      "model_module_version": "1.2.0",
      "model_name": "LayoutModel",
      "state": {
       "width": "190px"
      }
     },
     "bfa63bd171a4426e8b47512e6f9b171b": {
      "model_module": "@jupyter-widgets/controls",
      "model_module_version": "1.5.0",
      "model_name": "DescriptionStyleModel",
      "state": {
       "description_width": ""
      }
     },
     "ccf719e5508c46d8bda8d2181f882dab": {
      "model_module": "@jupyter-widgets/controls",
      "model_module_version": "1.5.0",
      "model_name": "GridBoxModel",
      "state": {
       "children": [
        "IPY_MODEL_f0c4554ce9b94828ae3094963184b62e"
       ],
       "layout": "IPY_MODEL_4a9ffc2bdb724184a1d6711c0e055385"
      }
     },
     "d4ff690fcd084fc0aadb979392e987c7": {
      "model_module": "@jupyter-widgets/base",
      "model_module_version": "1.2.0",
      "model_name": "LayoutModel",
      "state": {}
     },
     "f0c4554ce9b94828ae3094963184b62e": {
      "model_module": "@jupyter-widgets/controls",
      "model_module_version": "1.5.0",
      "model_name": "ButtonModel",
      "state": {
       "button_style": "primary",
       "description": "Clear",
       "layout": "IPY_MODEL_44ae8ec133ab4ae186aaa2d605cdc066",
       "style": "IPY_MODEL_fbd23fc0b5f44cee929c6b10fcd0c5bd"
      }
     },
     "f4e58bfdbee24bd6a76775fed354e097": {
      "model_module": "@jupyter-widgets/base",
      "model_module_version": "1.2.0",
      "model_name": "LayoutModel",
      "state": {
       "width": "95px"
      }
     },
     "fbd23fc0b5f44cee929c6b10fcd0c5bd": {
      "model_module": "@jupyter-widgets/controls",
      "model_module_version": "1.5.0",
      "model_name": "ButtonStyleModel",
      "state": {}
     }
    },
    "version_major": 2,
    "version_minor": 0
   }
  }
 },
 "nbformat": 4,
 "nbformat_minor": 5
}
