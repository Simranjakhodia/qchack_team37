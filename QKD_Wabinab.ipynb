{
 "cells": [
  {
   "cell_type": "markdown",
   "id": "small-moore",
   "metadata": {},
   "source": [
    "# Quantum Key Distribution + \"Quantum Computer Virus\"\n",
    "\n",
    "We learn about Quantum Key Distribution <a href=\"https://qiskit.org/textbook/ch-algorithms/quantum-key-distribution.html\">here</a> and in brief, we have Alice and Bob trying to communicate a secret key over a channel/third party, Eve, and Quantum Key Distribution can show that the key are different if Eve is trying to eavesdrop (my bad english, \"eavesdrop\" doesn't exist but you get the meaning) the conversation. \n",
    "\n",
    "However suppose that Eve doesn't exist, and Alice and Bob communicates via Wabinab's channel. And this guy Wabinab are so bored of studying quantum computing (pleading for forgiveness here for whoever reading this) that he decides to create some random \"Quantum Computer Virus\" and inject this \"phase virus\" into the communication channel. More technically explained, he create some random numbers and use these random numbers to create random phase gates and when the package reaches his channel, he tries to \"interfere\" with the original message being communicated in between Alice and Bob. \n",
    "\n",
    "Let's see what would happen. "
   ]
  },
  {
   "cell_type": "code",
   "execution_count": 1,
   "id": "proper-attribute",
   "metadata": {},
   "outputs": [
    {
     "data": {
      "text/html": [
       "<h3>Version Information</h3><table><tr><th>Qiskit Software</th><th>Version</th></tr><tr><td>Qiskit</td><td>0.25.0</td></tr><tr><td>Terra</td><td>0.17.0</td></tr><tr><td>Aer</td><td>0.8.0</td></tr><tr><td>Ignis</td><td>0.6.0</td></tr><tr><td>Aqua</td><td>0.9.0</td></tr><tr><td>IBM Q Provider</td><td>0.12.2</td></tr><tr><th>System information</th></tr><tr><td>Python</td><td>3.8.5 (default, Sep  4 2020, 07:30:14) \n",
       "[GCC 7.3.0]</td></tr><tr><td>OS</td><td>Linux</td></tr><tr><td>CPUs</td><td>2</td></tr><tr><td>Memory (Gb)</td><td>15.665283203125</td></tr><tr><td colspan='2'>Sun Apr 11 01:58:38 2021 UTC</td></tr></table>"
      ],
      "text/plain": [
       "<IPython.core.display.HTML object>"
      ]
     },
     "metadata": {},
     "output_type": "display_data"
    }
   ],
   "source": [
    "import qiskit.tools.jupyter\n",
    "%qiskit_version_table"
   ]
  },
  {
   "cell_type": "code",
   "execution_count": 9,
   "id": "solved-decade",
   "metadata": {},
   "outputs": [],
   "source": [
    "%config Completer.use_jedi = False\n",
    "\n",
    "from qiskit import *\n",
    "from qiskit.visualization import *\n",
    "\n",
    "from helper.helper import random_number_generator\n",
    "from helper.QKD_helper import *\n",
    "\n",
    "import numpy as np\n",
    "from numpy.random import randint"
   ]
  },
  {
   "cell_type": "code",
   "execution_count": 74,
   "id": "controversial-generic",
   "metadata": {},
   "outputs": [
    {
     "data": {
      "image/png": "[encoded data removed]",
      "text/plain": [
       "<Figure size 193.726x144.48 with 1 Axes>"
      ]
     },
     "execution_count": 74,
     "metadata": {},
     "output_type": "execute_result"
    }
   ],
   "source": [
    "# Number of bits\n",
    "n = 400\n",
    "\n",
    "alice_bits = randint(2, size=n)\n",
    "alice_bases = randint(2, size=n)\n",
    "\n",
    "message = encode_message(alice_bits, alice_bases)\n",
    "\n",
    "message[0].draw(\"mpl\", style=\"iqx\")"
   ]
  },
  {
   "cell_type": "code",
   "execution_count": 80,
   "id": "composite-atlas",
   "metadata": {},
   "outputs": [
    {
     "data": {
      "image/png": "[encoded data removed]",
      "text/plain": [
       "<Figure size 374.326x144.48 with 1 Axes>"
      ]
     },
     "execution_count": 80,
     "metadata": {},
     "output_type": "execute_result"
    }
   ],
   "source": [
    "# ===========================================\n",
    "# Virus injection channel\n",
    "phase_random = random_number_generator(9)\n",
    "\n",
    "\n",
    "def inject_virus(message, bases, phase_random=phase_random):\n",
    "    messages = []\n",
    "    gate_number = 1\n",
    "    \n",
    "    for q in range(n):\n",
    "        \n",
    "        try: \n",
    "            theta = np.pi * int(phase_random[gate_number- 1], 2) / int(phase_random[gate_number])\n",
    "        except IndexError: \n",
    "            gate_number = 1\n",
    "            \n",
    "            try: \n",
    "                theta = np.pi * int(phase_random[gate_number - 1], 2) / int(phase_random[gate_number])\n",
    "\n",
    "        if bases[q] == 1:  # Rx rotation\n",
    "            message[q].rx(theta, 0)\n",
    "            \n",
    "        elif bases[q] == 2:  # Ry rotation\n",
    "            message[q].ry(theta, 0)\n",
    "            \n",
    "        elif bases[q] == 3:  # Rz rotation\n",
    "            message[q].rz(theta, 0)\n",
    "            \n",
    "        message[q].barrier()\n",
    "        \n",
    "        messages.append(message[q])\n",
    "\n",
    "        gate_number += 1\n",
    "        \n",
    "    return messages\n",
    "\n",
    "\n",
    "\n",
    "wabinab_bases = randint(4, size=n)\n",
    "message = inject_virus(message, wabinab_bases)\n",
    "\n",
    "message[0].draw(\"mpl\", style=\"iqx\")\n",
    "\n",
    "\n",
    "# ==========================================="
   ]
  },
  {
   "cell_type": "code",
   "execution_count": 81,
   "id": "personal-arrangement",
   "metadata": {},
   "outputs": [
    {
     "data": {
      "image/png": "[encoded data removed]",
      "text/plain": [
       "<Figure size 434.526x144.48 with 1 Axes>"
      ]
     },
     "execution_count": 81,
     "metadata": {},
     "output_type": "execute_result"
    }
   ],
   "source": [
    "bob_bases = randint(2, size=n)\n",
    "\n",
    "bob_results = measure_message(message, bob_bases)\n",
    "message[0].draw(\"mpl\", style=\"iqx\")"
   ]
  },
  {
   "cell_type": "code",
   "execution_count": 82,
   "id": "fiscal-penalty",
   "metadata": {},
   "outputs": [],
   "source": [
    "alice_key = remove_garbage(alice_bases, bob_bases, alice_bits)\n",
    "\n",
    "bob_key = remove_garbage(alice_bases, bob_bases, bob_results)"
   ]
  },
  {
   "cell_type": "code",
   "execution_count": 83,
   "id": "distant-prisoner",
   "metadata": {},
   "outputs": [
    {
     "name": "stdout",
     "output_type": "stream",
     "text": [
      "Not modified:  False\n",
      "Key length = 118\n"
     ]
    }
   ],
   "source": [
    "sample_size = 80\n",
    "bit_selection = randint(n, size=sample_size)\n",
    "\n",
    "bob_sample = sample_bits(bob_key, bit_selection)\n",
    "alice_sample = sample_bits(alice_key, bit_selection)\n",
    "\n",
    "print(\"Not modified: \", bob_sample == alice_sample)\n",
    "print(f\"Key length = {len(alice_key)}\")"
   ]
  },
  {
   "cell_type": "markdown",
   "id": "centered-baker",
   "metadata": {},
   "source": [
    "Thing with this is we have really small modifications. What if we try larger modifications like $\\frac{3\\pi}{2}$ ? Then with this large rotation phase we could totally change the qubit representation from say, $0$ to $1$. "
   ]
  },
  {
   "cell_type": "code",
   "execution_count": 99,
   "id": "continental-being",
   "metadata": {},
   "outputs": [
    {
     "name": "stdout",
     "output_type": "stream",
     "text": [
      "Not modified:  False\n",
      "Key length = 26\n",
      "Not modified:  True\n",
      "Key length = 29\n"
     ]
    }
   ],
   "source": [
    "n = 100\n",
    "out = False\n",
    "\n",
    "while out == False:\n",
    "    alice_bits = randint(2, size=n)\n",
    "    alice_bases = randint(2, size=n)\n",
    "\n",
    "    message = encode_message(alice_bits, alice_bases)\n",
    "\n",
    "    # =============================================\n",
    "    gen_num = 3\n",
    "    phase_random = random_number_generator(gen_num)\n",
    "\n",
    "    # To escape zero division error: \n",
    "    phase_random.remove(\"0\" * gen_num)\n",
    "\n",
    "    wabinab_bases = randint(4, size=n)\n",
    "    message = inject_virus(message, wabinab_bases, phase_random)\n",
    "\n",
    "    # =============================================\n",
    "\n",
    "    bob_bases = randint(2, size=n)\n",
    "\n",
    "    bob_results = measure_message(message, bob_bases)\n",
    "\n",
    "    alice_key = remove_garbage(alice_bases, bob_bases, alice_bits)\n",
    "\n",
    "    bob_key = remove_garbage(alice_bases, bob_bases, bob_results)\n",
    "\n",
    "    sample_size = 20\n",
    "    bit_selection = randint(n, size=sample_size)\n",
    "\n",
    "    bob_sample = sample_bits(bob_key, bit_selection)\n",
    "    alice_sample = sample_bits(alice_key, bit_selection)\n",
    "\n",
    "    print(\"Not modified: \", bob_sample == alice_sample)\n",
    "    print(f\"Key length = {len(alice_key)}\")\n",
    "    \n",
    "    out = bob_sample == alice_sample"
   ]
  },
  {
   "cell_type": "markdown",
   "id": "excessive-guarantee",
   "metadata": {},
   "source": [
    "## Discussion\n",
    "\n",
    "We show that we could inject minute quantum virus (albeit even I don't think that a small phase change is some kind of virus but rather noise that affects interference, whether Alice and Bob's bases constructively interfere (`bob_sample == alice_sample is True`) or destructively interfere (`bob_sample == alice_sample is False`) can have large effect on Key distribution). \n",
    "\n",
    "We show that, with sufficiently small interference, the overall interference is destructive and hence goes unnoticed and hence bad guy could inject whatever gates in the middle without disturbing the information overall but in the long term might affect the end-user's computer when small amount aggregate into huge mountains (i.e. one small package of virus does not work but complete virus made up of all its packages is lethal). "
   ]
  },
  {
   "cell_type": "code",
   "execution_count": null,
   "id": "random-mountain",
   "metadata": {},
   "outputs": [],
   "source": []
  }
 ],
 "metadata": {
  "kernelspec": {
   "display_name": "updatedQiskit1",
   "language": "python",
   "name": "updatedqiskit1"
  },
  "language_info": {
   "codemirror_mode": {
    "name": "ipython",
    "version": 3
   },
   "file_extension": ".py",
   "mimetype": "text/x-python",
   "name": "python",
   "nbconvert_exporter": "python",
   "pygments_lexer": "ipython3",
   "version": "3.8.5"
  },
  "widgets": {
   "application/vnd.jupyter.widget-state+json": {
    "state": {},
    "version_major": 2,
    "version_minor": 0
   }
  }
 },
 "nbformat": 4,
 "nbformat_minor": 5
}
