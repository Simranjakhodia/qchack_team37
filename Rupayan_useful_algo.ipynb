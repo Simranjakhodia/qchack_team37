{
 "cells": [
  {
   "cell_type": "markdown",
   "id": "welcome-opening",
   "metadata": {},
   "source": [
    "# Interference to create any qubit with desired Probability Distribution. \n",
    "\n",
    "Idea by Rupayan CsMP (discord name).\n",
    "\n",
    "The algorithm can be used to create multiqubit states (instead of just single qubit) with desired probability distribution, which is scalable. "
   ]
  },
  {
   "cell_type": "code",
   "execution_count": 1,
   "id": "alien-durham",
   "metadata": {},
   "outputs": [
    {
     "data": {
      "text/html": [
       "<h3>Version Information</h3><table><tr><th>Qiskit Software</th><th>Version</th></tr><tr><td>Qiskit</td><td>0.25.0</td></tr><tr><td>Terra</td><td>0.17.0</td></tr><tr><td>Aer</td><td>0.8.0</td></tr><tr><td>Ignis</td><td>0.6.0</td></tr><tr><td>Aqua</td><td>0.9.0</td></tr><tr><td>IBM Q Provider</td><td>0.12.2</td></tr><tr><th>System information</th></tr><tr><td>Python</td><td>3.8.5 (default, Sep  4 2020, 07:30:14) \n",
       "[GCC 7.3.0]</td></tr><tr><td>OS</td><td>Linux</td></tr><tr><td>CPUs</td><td>2</td></tr><tr><td>Memory (Gb)</td><td>15.665283203125</td></tr><tr><td colspan='2'>Sun Apr 11 10:12:03 2021 UTC</td></tr></table>"
      ],
      "text/plain": [
       "<IPython.core.display.HTML object>"
      ]
     },
     "metadata": {},
     "output_type": "display_data"
    }
   ],
   "source": [
    "import qiskit.tools.jupyter\n",
    "%qiskit_version_table"
   ]
  },
  {
   "cell_type": "markdown",
   "id": "august-stability",
   "metadata": {},
   "source": [
    "### Gates implementation logic\n",
    "\n",
    "**Goal:** Create qubit state with $a^2$ probability of getting $|0\\rangle$ and $b^2$ probability of getting $|1\\rangle$. \n",
    "\n",
    "Immediately following a single Hadamard gate implementation, we implement a U3 gate with ($0, 0, \\lambda$) where U3 gate is ($\\theta, \\phi, \\lambda$) ordering, so $\\theta = 0$, $\\phi = 0$. \n",
    "\n",
    "Then we want to find $\\lambda$, which equals to $cos^{-1} (|a|)$. \n",
    "\n",
    "\n",
    "1. Apply $H$ we get $|+\\rangle$ state. \n",
    "2. Apply $U3$ with parameters ($0, 0, \\lambda$): \n",
    "$$ \\frac{1}{\\sqrt{2}} \\bigg(|0\\rangle + e^{i\\lambda}|1\\rangle\\bigg) $$\n",
    "3. Apply $X$ gate: \n",
    "$$ \\frac{1}{\\sqrt{2}} \\bigg(|1\\rangle + e^{i\\lambda}|0\\rangle\\bigg) $$\n",
    "4. Apply $U3$ with parameters ($0, 0, -\\lambda$): \n",
    "$$ \\frac{1}{\\sqrt{2}} \\bigg(e^{-i\\lambda}|1\\rangle + e^{i\\lambda}|0\\rangle\\bigg) $$\n",
    "5. Apply $H$ gate: \n",
    "$$ a|0\\rangle + ib|1\\rangle $$\n",
    "\n",
    "Interference exist and creates desired state here. "
   ]
  },
  {
   "cell_type": "code",
   "execution_count": 10,
   "id": "monthly-alexander",
   "metadata": {},
   "outputs": [],
   "source": [
    "%config Completer.use_jedi = False\n",
    "\n",
    "from qiskit import *\n",
    "from qiskit.visualization import *\n",
    "from qiskit_textbook.tools import array_to_latex\n",
    "\n",
    "import numpy as np"
   ]
  },
  {
   "cell_type": "markdown",
   "id": "afraid-flavor",
   "metadata": {},
   "source": [
    "We are going to choose $a^2 = 0.2$ and $b^2 = 0.8$ here. "
   ]
  },
  {
   "cell_type": "code",
   "execution_count": 13,
   "id": "dietary-liver",
   "metadata": {},
   "outputs": [
    {
     "name": "stdout",
     "output_type": "stream",
     "text": [
      "What probability distribution would you like? \n"
     ]
    },
    {
     "name": "stdin",
     "output_type": "stream",
     "text": [
      "Input a^2:  0.2\n",
      "Input b^2:  0.8\n"
     ]
    }
   ],
   "source": [
    "print(\"What probability distribution would you like? \")\n",
    "a_square = float(input(\"Input a^2: \"))\n",
    "b_square = float(input(\"Input b^2: \"))\n",
    "\n",
    "while (a_square + b_square) != 1:\n",
    "    print(\"Invalid input, a^2 + b^2 == 1 is a requirement. Please input again: \")\n",
    "    a_square = float(input(\"Input a^2: \"))\n",
    "    b_square = float(input(\"Input b^2: \"))\n",
    "    \n",
    "V = np.sqrt(a_square)\n",
    "\n",
    "lambda1 = np.arccos(V)"
   ]
  },
  {
   "cell_type": "markdown",
   "id": "authentic-hospital",
   "metadata": {},
   "source": [
    "We will use $U$ gate as $U3$ gate is deprecating, as per instructed it acts identical. "
   ]
  },
  {
   "cell_type": "code",
   "execution_count": 23,
   "id": "objective-plate",
   "metadata": {},
   "outputs": [
    {
     "data": {
      "image/png": "[encoded data removed]",
      "text/plain": [
       "<Figure size 434.526x84.28 with 1 Axes>"
      ]
     },
     "execution_count": 23,
     "metadata": {},
     "output_type": "execute_result"
    }
   ],
   "source": [
    "qc = QuantumCircuit(1)\n",
    "\n",
    "qc.h(0)\n",
    "qc.u(0, 0, lambda1, qubit=0)\n",
    "qc.x(0)\n",
    "qc.u(0, 0, -lambda1, qubit=0)\n",
    "qc.h(0)\n",
    "\n",
    "# qc.measure_all()\n",
    "\n",
    "qc.draw(\"mpl\", style=\"iqx\")"
   ]
  },
  {
   "cell_type": "code",
   "execution_count": 24,
   "id": "injured-mainstream",
   "metadata": {},
   "outputs": [
    {
     "data": {
      "text/latex": [
       "$\\displaystyle \n",
       "\\text{Statevector} = \\begin{bmatrix}\n",
       "0.4 \\\\\n",
       "0.9i\n",
       "\\end{bmatrix}\n",
       "$"
      ],
      "text/plain": [
       "<IPython.core.display.Math object>"
      ]
     },
     "metadata": {},
     "output_type": "display_data"
    }
   ],
   "source": [
    "backend = Aer.get_backend(\"statevector_simulator\")\n",
    "result = execute(qc, backend=backend, shots=5000).result()\n",
    "state = result.get_statevector()\n",
    "\n",
    "array_to_latex(state, pretext=\"\\\\text{Statevector} = \", precision=1)"
   ]
  },
  {
   "cell_type": "markdown",
   "id": "automated-compound",
   "metadata": {},
   "source": [
    "So we are planning to get probability of 0.2 for $|0\\rangle$ and 0.8 for $|1\\rangle$. "
   ]
  },
  {
   "cell_type": "code",
   "execution_count": 25,
   "id": "israeli-antenna",
   "metadata": {},
   "outputs": [
    {
     "name": "stdout",
     "output_type": "stream",
     "text": [
      "{'0': 996, '1': 4004}\n"
     ]
    }
   ],
   "source": [
    "qc.measure_all()\n",
    "\n",
    "qasm_backend = Aer.get_backend(\"qasm_simulator\")\n",
    "result = execute(qc, backend=qasm_backend, shots=5000).result()\n",
    "counts = result.get_counts()\n",
    "\n",
    "print(counts)"
   ]
  },
  {
   "cell_type": "code",
   "execution_count": 26,
   "id": "fifteen-performance",
   "metadata": {},
   "outputs": [
    {
     "data": {
      "image/png": "[encoded data removed]",
      "text/plain": [
       "<Figure size 504x360 with 1 Axes>"
      ]
     },
     "execution_count": 26,
     "metadata": {},
     "output_type": "execute_result"
    }
   ],
   "source": [
    "plot_histogram(counts)"
   ]
  },
  {
   "cell_type": "markdown",
   "id": "quality-concrete",
   "metadata": {},
   "source": [
    "And as expected, that's what we've got! \n",
    "\n",
    "We could try running on IBM simulator"
   ]
  },
  {
   "cell_type": "code",
   "execution_count": 27,
   "id": "congressional-cornwall",
   "metadata": {},
   "outputs": [
    {
     "name": "stderr",
     "output_type": "stream",
     "text": [
      "<ipython-input-27-0bc304a60daf>:8: DeprecationWarning: Passing a Qobj to Backend.run is deprecated and will be removed in a future release. Please pass in circuits or pulse schedules instead.\n",
      "  job = quito_backend.run(qobj)\n"
     ]
    },
    {
     "name": "stdout",
     "output_type": "stream",
     "text": [
      "Job Status: job has successfully run\n"
     ]
    }
   ],
   "source": [
    "provider = IBMQ.load_account()\n",
    "\n",
    "from qiskit.tools import job_monitor\n",
    "\n",
    "quito_backend = provider.get_backend(\"ibmq_quito\")\n",
    "transpiled_qc = transpile(qc, backend=quito_backend)\n",
    "qobj = assemble(transpiled_qc, shots=8000)\n",
    "job = quito_backend.run(qobj)\n",
    "job_monitor(job, interval=2)"
   ]
  },
  {
   "cell_type": "code",
   "execution_count": 28,
   "id": "opposed-confidentiality",
   "metadata": {},
   "outputs": [
    {
     "name": "stdout",
     "output_type": "stream",
     "text": [
      "{'0': 2526, '1': 5474}\n"
     ]
    },
    {
     "data": {
      "image/png": "[encoded data removed]",
      "text/plain": [
       "<Figure size 504x360 with 1 Axes>"
      ]
     },
     "execution_count": 28,
     "metadata": {},
     "output_type": "execute_result"
    }
   ],
   "source": [
    "result = job.result()\n",
    "counts = result.get_counts()\n",
    "print(counts)\n",
    "\n",
    "plot_histogram(counts)"
   ]
  },
  {
   "cell_type": "code",
   "execution_count": null,
   "id": "cloudy-therapy",
   "metadata": {},
   "outputs": [],
   "source": []
  }
 ],
 "metadata": {
  "kernelspec": {
   "display_name": "updatedQiskit1",
   "language": "python",
   "name": "updatedqiskit1"
  },
  "language_info": {
   "codemirror_mode": {
    "name": "ipython",
    "version": 3
   },
   "file_extension": ".py",
   "mimetype": "text/x-python",
   "name": "python",
   "nbconvert_exporter": "python",
   "pygments_lexer": "ipython3",
   "version": "3.8.5"
  },
  "widgets": {
   "application/vnd.jupyter.widget-state+json": {
    "state": {
     "037240d805b449029ec886eb137fa7a3": {
      "model_module": "@jupyter-widgets/controls",
      "model_module_version": "1.5.0",
      "model_name": "HTMLModel",
      "state": {
       "layout": "IPY_MODEL_3e17875142864fcca70a09c901734761",
       "style": "IPY_MODEL_48a00b7f8da7463585feb234aaea4e88",
       "value": "<h5>Status</h5>"
      }
     },
     "0a40db90b27d48868e3c402944d65bb7": {
      "model_module": "@jupyter-widgets/controls",
      "model_module_version": "1.5.0",
      "model_name": "DescriptionStyleModel",
      "state": {
       "description_width": ""
      }
     },
     "133fd0c82a034020a84692f4c05d5657": {
      "model_module": "@jupyter-widgets/base",
      "model_module_version": "1.2.0",
      "model_name": "LayoutModel",
      "state": {
       "width": "145px"
      }
     },
     "1399c7e5809a4e3fbac007f8bf818e94": {
      "model_module": "@jupyter-widgets/base",
      "model_module_version": "1.2.0",
      "model_name": "LayoutModel",
      "state": {
       "margin": "0px 0px 10px 0px"
      }
     },
     "187015de27dc43d49d096dd33beebe9f": {
      "model_module": "@jupyter-widgets/controls",
      "model_module_version": "1.5.0",
      "model_name": "DescriptionStyleModel",
      "state": {
       "description_width": ""
      }
     },
     "1f975df7878f47ed9cd55ec311cef322": {
      "model_module": "@jupyter-widgets/controls",
      "model_module_version": "1.5.0",
      "model_name": "ButtonStyleModel",
      "state": {
       "button_color": "white"
      }
     },
     "24f891d5f0904e2da83e8a7360026f54": {
      "model_module": "@jupyter-widgets/base",
      "model_module_version": "1.2.0",
      "model_name": "LayoutModel",
      "state": {
       "width": "95px"
      }
     },
     "38f406531a3a4f2986fa4c6dff2474da": {
      "model_module": "@jupyter-widgets/base",
      "model_module_version": "1.2.0",
      "model_name": "LayoutModel",
      "state": {
       "grid_area": "right",
       "padding": "0px 0px 0px 0px",
       "width": "70px"
      }
     },
     "39fc398a952949fa98a561d76d9ceca4": {
      "model_module": "@jupyter-widgets/base",
      "model_module_version": "1.2.0",
      "model_name": "LayoutModel",
      "state": {
       "width": "70px"
      }
     },
     "3b34f7fe569c494c9356d52890f33e81": {
      "model_module": "@jupyter-widgets/controls",
      "model_module_version": "1.5.0",
      "model_name": "HTMLModel",
      "state": {
       "layout": "IPY_MODEL_d2f692d8a0704b48bed4ff5a6c5236c0",
       "style": "IPY_MODEL_e00750dffae9429b8c07708e5f3a7c9f",
       "value": "ibmq_quito"
      }
     },
     "3e17875142864fcca70a09c901734761": {
      "model_module": "@jupyter-widgets/base",
      "model_module_version": "1.2.0",
      "model_name": "LayoutModel",
      "state": {
       "width": "95px"
      }
     },
     "48a00b7f8da7463585feb234aaea4e88": {
      "model_module": "@jupyter-widgets/controls",
      "model_module_version": "1.5.0",
      "model_name": "DescriptionStyleModel",
      "state": {
       "description_width": ""
      }
     },
     "4e1e425bb491485eb6c02e219a6c099e": {
      "model_module": "@jupyter-widgets/controls",
      "model_module_version": "1.5.0",
      "model_name": "DescriptionStyleModel",
      "state": {
       "description_width": ""
      }
     },
     "54bc6103639b4af3b668e1e0ffff0a39": {
      "model_module": "@jupyter-widgets/base",
      "model_module_version": "1.2.0",
      "model_name": "LayoutModel",
      "state": {
       "grid_template_areas": "\n                                       \". . . . right \"\n                                        ",
       "grid_template_columns": "20% 20% 20% 20% 20%",
       "width": "100%"
      }
     },
     "5e06c4c762484006ae608ba6ab3d5244": {
      "model_module": "@jupyter-widgets/base",
      "model_module_version": "1.2.0",
      "model_name": "LayoutModel",
      "state": {
       "width": "190px"
      }
     },
     "5e816f6ffef742e4894b752cd2b9d7dc": {
      "model_module": "@jupyter-widgets/base",
      "model_module_version": "1.2.0",
      "model_name": "LayoutModel",
      "state": {
       "width": "190px"
      }
     },
     "69f92969f5e44550bb08caea3f1ddae9": {
      "model_module": "@jupyter-widgets/controls",
      "model_module_version": "1.5.0",
      "model_name": "HTMLModel",
      "state": {
       "layout": "IPY_MODEL_d44beb2c8a634ef2ad096581929f73ed",
       "style": "IPY_MODEL_187015de27dc43d49d096dd33beebe9f",
       "value": "<h5>Message</h5>"
      }
     },
     "7038288dd59846e99a8dd3159a3bf6ee": {
      "model_module": "@jupyter-widgets/controls",
      "model_module_version": "1.5.0",
      "model_name": "DescriptionStyleModel",
      "state": {
       "description_width": ""
      }
     },
     "75d28c26d0d04b7abb5346eb6a6ec009": {
      "model_module": "@jupyter-widgets/controls",
      "model_module_version": "1.5.0",
      "model_name": "HTMLModel",
      "state": {
       "layout": "IPY_MODEL_133fd0c82a034020a84692f4c05d5657",
       "style": "IPY_MODEL_8abb7546d9a1477fa27f8c97a9e23c78",
       "value": "<h5>Backend</h5>"
      }
     },
     "7f0ee54d32ce4a8894eeba1f9d0f80e7": {
      "model_module": "@jupyter-widgets/controls",
      "model_module_version": "1.5.0",
      "model_name": "HTMLModel",
      "state": {
       "layout": "IPY_MODEL_1399c7e5809a4e3fbac007f8bf818e94",
       "style": "IPY_MODEL_7038288dd59846e99a8dd3159a3bf6ee",
       "value": "<p style='font-family: IBM Plex Sans, Arial, Helvetica, sans-serif; font-size: 20px; font-weight: medium;'>Circuit Properties</p>"
      }
     },
     "7f8f614678fb42a1b0ba1d1941cb4944": {
      "model_module": "@jupyter-widgets/controls",
      "model_module_version": "1.5.0",
      "model_name": "HTMLModel",
      "state": {
       "layout": "IPY_MODEL_5e06c4c762484006ae608ba6ab3d5244",
       "style": "IPY_MODEL_4e1e425bb491485eb6c02e219a6c099e",
       "value": "6072e8a0b8a8750bcdee9184"
      }
     },
     "84218f8c24ac48138cd80a231434eba0": {
      "model_module": "@jupyter-widgets/controls",
      "model_module_version": "1.5.0",
      "model_name": "HBoxModel",
      "state": {
       "children": [
        "IPY_MODEL_d02a2f94955d4833b6b706ac4db81aac",
        "IPY_MODEL_75d28c26d0d04b7abb5346eb6a6ec009",
        "IPY_MODEL_037240d805b449029ec886eb137fa7a3",
        "IPY_MODEL_fc63cb47e40e4c65b280acbccd88b4c7",
        "IPY_MODEL_69f92969f5e44550bb08caea3f1ddae9"
       ],
       "layout": "IPY_MODEL_b0827928d0e746a3bdfeb072ec8849f6"
      }
     },
     "86009c11fb7641ec82a60e1a5e439d32": {
      "model_module": "@jupyter-widgets/controls",
      "model_module_version": "1.5.0",
      "model_name": "ButtonModel",
      "state": {
       "button_style": "primary",
       "description": "Clear",
       "layout": "IPY_MODEL_38f406531a3a4f2986fa4c6dff2474da",
       "style": "IPY_MODEL_a16ca3109a41475bb3617b105a5ae6be"
      }
     },
     "8abb7546d9a1477fa27f8c97a9e23c78": {
      "model_module": "@jupyter-widgets/controls",
      "model_module_version": "1.5.0",
      "model_name": "DescriptionStyleModel",
      "state": {
       "description_width": ""
      }
     },
     "91f3a879c5ca46c491e085b86bcb12b4": {
      "model_module": "@jupyter-widgets/base",
      "model_module_version": "1.2.0",
      "model_name": "LayoutModel",
      "state": {
       "max_width": "700px",
       "min_width": "700px"
      }
     },
     "9624b5461a774dddb60f59860be16502": {
      "model_module": "@jupyter-widgets/controls",
      "model_module_version": "1.5.0",
      "model_name": "HTMLModel",
      "state": {
       "layout": "IPY_MODEL_24f891d5f0904e2da83e8a7360026f54",
       "style": "IPY_MODEL_b86ccac2218c46e2bec04fab09f2f195",
       "value": "<font style='color:#34BC6E'>DONE</font>"
      }
     },
     "a16ca3109a41475bb3617b105a5ae6be": {
      "model_module": "@jupyter-widgets/controls",
      "model_module_version": "1.5.0",
      "model_name": "ButtonStyleModel",
      "state": {}
     },
     "abddb5007dac4dbf883a44bc34b2ac0e": {
      "model_module": "@jupyter-widgets/controls",
      "model_module_version": "1.5.0",
      "model_name": "ButtonModel",
      "state": {
       "icon": "close",
       "layout": "IPY_MODEL_b6224bb1584444bca2f109dece5a48e3",
       "style": "IPY_MODEL_1f975df7878f47ed9cd55ec311cef322"
      }
     },
     "ac227469806e4a9dbd0a542194f810fa": {
      "model_module": "@jupyter-widgets/controls",
      "model_module_version": "1.5.0",
      "model_name": "DescriptionStyleModel",
      "state": {
       "description_width": ""
      }
     },
     "b0827928d0e746a3bdfeb072ec8849f6": {
      "model_module": "@jupyter-widgets/base",
      "model_module_version": "1.2.0",
      "model_name": "LayoutModel",
      "state": {
       "margin": "0px 0px 0px 37px",
       "width": "600px"
      }
     },
     "b350cf4fb6b741e89f6bad17845d3189": {
      "model_module": "@jupyter-widgets/controls",
      "model_module_version": "1.5.0",
      "model_name": "HTMLModel",
      "state": {
       "layout": "IPY_MODEL_39fc398a952949fa98a561d76d9ceca4",
       "style": "IPY_MODEL_ac227469806e4a9dbd0a542194f810fa",
       "value": "-"
      }
     },
     "b6224bb1584444bca2f109dece5a48e3": {
      "model_module": "@jupyter-widgets/base",
      "model_module_version": "1.2.0",
      "model_name": "LayoutModel",
      "state": {
       "margin": "0px 5px 0px 0px",
       "width": "32px"
      }
     },
     "b86ccac2218c46e2bec04fab09f2f195": {
      "model_module": "@jupyter-widgets/controls",
      "model_module_version": "1.5.0",
      "model_name": "DescriptionStyleModel",
      "state": {
       "description_width": ""
      }
     },
     "bd8a087c838445288c3a8f8da6618154": {
      "model_module": "@jupyter-widgets/controls",
      "model_module_version": "1.5.0",
      "model_name": "HBoxModel",
      "state": {
       "children": [
        "IPY_MODEL_abddb5007dac4dbf883a44bc34b2ac0e",
        "IPY_MODEL_7f8f614678fb42a1b0ba1d1941cb4944",
        "IPY_MODEL_3b34f7fe569c494c9356d52890f33e81",
        "IPY_MODEL_9624b5461a774dddb60f59860be16502",
        "IPY_MODEL_b350cf4fb6b741e89f6bad17845d3189",
        "IPY_MODEL_fd64f857b5b5404ea8f6442d277b6393"
       ],
       "layout": "IPY_MODEL_91f3a879c5ca46c491e085b86bcb12b4"
      }
     },
     "c6970ddd94be4c548460f5a30cb80bd9": {
      "model_module": "@jupyter-widgets/controls",
      "model_module_version": "1.5.0",
      "model_name": "DescriptionStyleModel",
      "state": {
       "description_width": ""
      }
     },
     "d02a2f94955d4833b6b706ac4db81aac": {
      "model_module": "@jupyter-widgets/controls",
      "model_module_version": "1.5.0",
      "model_name": "HTMLModel",
      "state": {
       "layout": "IPY_MODEL_5e816f6ffef742e4894b752cd2b9d7dc",
       "style": "IPY_MODEL_e87d50bd223943fd978e95d550a37d10",
       "value": "<h5>Job ID</h5>"
      }
     },
     "d2f692d8a0704b48bed4ff5a6c5236c0": {
      "model_module": "@jupyter-widgets/base",
      "model_module_version": "1.2.0",
      "model_name": "LayoutModel",
      "state": {
       "width": "145px"
      }
     },
     "d44beb2c8a634ef2ad096581929f73ed": {
      "model_module": "@jupyter-widgets/base",
      "model_module_version": "1.2.0",
      "model_name": "LayoutModel",
      "state": {}
     },
     "e00750dffae9429b8c07708e5f3a7c9f": {
      "model_module": "@jupyter-widgets/controls",
      "model_module_version": "1.5.0",
      "model_name": "DescriptionStyleModel",
      "state": {
       "description_width": ""
      }
     },
     "e3401c6785294b4fa24376b1be3a293a": {
      "model_module": "@jupyter-widgets/base",
      "model_module_version": "1.2.0",
      "model_name": "LayoutModel",
      "state": {
       "width": "70px"
      }
     },
     "e87d50bd223943fd978e95d550a37d10": {
      "model_module": "@jupyter-widgets/controls",
      "model_module_version": "1.5.0",
      "model_name": "DescriptionStyleModel",
      "state": {
       "description_width": ""
      }
     },
     "ec5ef4d2b8204e0380655db672121857": {
      "model_module": "@jupyter-widgets/base",
      "model_module_version": "1.2.0",
      "model_name": "LayoutModel",
      "state": {
       "overflow_x": "scroll"
      }
     },
     "f2b887772090429e9b04099fd8c4dea3": {
      "model_module": "@jupyter-widgets/controls",
      "model_module_version": "1.5.0",
      "model_name": "GridBoxModel",
      "state": {
       "children": [
        "IPY_MODEL_86009c11fb7641ec82a60e1a5e439d32"
       ],
       "layout": "IPY_MODEL_54bc6103639b4af3b668e1e0ffff0a39"
      }
     },
     "fc63cb47e40e4c65b280acbccd88b4c7": {
      "model_module": "@jupyter-widgets/controls",
      "model_module_version": "1.5.0",
      "model_name": "HTMLModel",
      "state": {
       "layout": "IPY_MODEL_e3401c6785294b4fa24376b1be3a293a",
       "style": "IPY_MODEL_c6970ddd94be4c548460f5a30cb80bd9",
       "value": "<h5>Queue</h5>"
      }
     },
     "fd64f857b5b5404ea8f6442d277b6393": {
      "model_module": "@jupyter-widgets/controls",
      "model_module_version": "1.5.0",
      "model_name": "HTMLModel",
      "state": {
       "layout": "IPY_MODEL_ec5ef4d2b8204e0380655db672121857",
       "style": "IPY_MODEL_0a40db90b27d48868e3c402944d65bb7",
       "value": "job has successfully run"
      }
     }
    },
    "version_major": 2,
    "version_minor": 0
   }
  }
 },
 "nbformat": 4,
 "nbformat_minor": 5
}
